{
 "cells": [
  {
   "cell_type": "markdown",
   "id": "c3344410-d98f-4fd9-81a4-a320561325d7",
   "metadata": {},
   "source": [
    "# Setup environment and make sure it works as expected.\n",
    "\n",
    "This workbook is to validate the environment.\n",
    "\n",
    "I have built a Docker container based on jupyter/datascience-notebook, with _DifferentialEquations_ and _Plots_ added to the container that I am using locally for these notebooks. Eventually all this should get into this repo, but I am still figureing it out.\n"
   ]
  },
  {
   "cell_type": "code",
   "execution_count": null,
   "id": "b7eab590-1c52-4162-81bb-54dae2abb1a6",
   "metadata": {},
   "outputs": [],
   "source": [
    "using Pkg\n",
    "Pkg.status()"
   ]
  },
  {
   "cell_type": "markdown",
   "id": "eb101850-42c5-46fc-a3f6-907261325237",
   "metadata": {},
   "source": [
    "Only do the following if you really need to, it can take a long time."
   ]
  },
  {
   "cell_type": "code",
   "execution_count": null,
   "id": "3b86fd68-36cc-4350-a4fd-5c2c0705d419",
   "metadata": {},
   "outputs": [],
   "source": [
    "# Pkg.add(\"DifferentialEquations\")\n",
    "# Pkg.add(\"Plots\")\n",
    "# Pkg.status()"
   ]
  },
  {
   "cell_type": "code",
   "execution_count": null,
   "id": "5c9e143f-391c-49d1-b1c9-35efc865c539",
   "metadata": {},
   "outputs": [],
   "source": [
    "using DifferentialEquations\n",
    "using Plots"
   ]
  },
  {
   "cell_type": "markdown",
   "id": "ef907f2e-836e-4f1a-9f7e-be709d40231d",
   "metadata": {},
   "source": [
    "## First a sample to make sure that basic package is working as expected.\n",
    "\n",
    "This is pulled from the _DifferentialEquations_ Docs. (https://diffeq.sciml.ai/stable/)\n"
   ]
  },
  {
   "cell_type": "code",
   "execution_count": null,
   "id": "60718b60-51f5-47c1-8631-997fefb0cb54",
   "metadata": {},
   "outputs": [],
   "source": [
    "\n",
    "f(u,p,t) = 1.01*u\n",
    "u0 = 1/2\n",
    "tspan = (0.0,1.0)\n",
    "prob = ODEProblem(f,u0,tspan)\n",
    "sol = solve(prob, Tsit5(), reltol=1e-8, abstol=1e-8)\n",
    "\n",
    "plot(sol,linewidth=5,title=\"Solution to the linear ODE with a thick line\",\n",
    "     xaxis=\"Time (t)\",yaxis=\"u(t) (in μm)\",label=\"My Thick Line!\") # legend=false\n",
    "plot!(sol.t, t->0.5*exp(1.01t),lw=3,ls=:dash,label=\"True Solution!\")\n"
   ]
  },
  {
   "cell_type": "markdown",
   "id": "c4c2481d-4402-4f10-afdb-3a30b33bb705",
   "metadata": {},
   "source": [
    "## And now an example from the book to see if _I_ understand how to use the package.\n",
    "\n",
    "Solve: $0.3u'' -(1-u^2)u' + u = 0$"
   ]
  },
  {
   "cell_type": "code",
   "execution_count": null,
   "id": "3b31d71d-d2eb-4041-b5db-4ecb2317ad0e",
   "metadata": {},
   "outputs": [],
   "source": [
    "\n",
    "vdp(du, u, p, t) = ((1-u^2)*du - u) / 0.3\n",
    "vdpspan = (0.0, 20.0)\n",
    "vdpprob = SecondOrderODEProblem(vdp, 0.0, 1.0, vdpspan)\n",
    "vdpsol = solve(vdpprob, reltol=1e-8, abstol=1e-8)\n",
    "\n",
    "plot(vdpsol, vars=(0, 2))\n"
   ]
  },
  {
   "cell_type": "markdown",
   "id": "b6c1a07f-9813-4815-afb7-78bbd5234caa",
   "metadata": {},
   "source": [
    "And get the minimas.\n",
    "\n",
    "Still trying to see how to increase the accuracy here - the book asks for 6 significant digits, but lowering the tolerance in the solver beyond $10^{-8}$ seems to lower the accuracy. This shouldn't be hard (at least, from the book, it seems trivial in MatLab)."
   ]
  },
  {
   "cell_type": "code",
   "execution_count": null,
   "id": "bbc972f3-66b8-4ad6-8d6d-274eb4848844",
   "metadata": {},
   "outputs": [],
   "source": [
    "result = [v[2] for v in vdpsol.u]\n",
    "min_loc = argmin(result)\n",
    "result[min_loc]\n",
    "min_time = vdpsol.t[min_loc]\n",
    "\n",
    "locs = findall(x->isapprox(x, minimum(result), rtol=0.00004), result)\n",
    "# for t in locs\n",
    "#     println(\"t = \", vdpsol.t[t], \" u = \", vdpsol.u[t])\n",
    "# end\n",
    "for idx in 1:length(locs)\n",
    "    loc = locs[idx]\n",
    "    println(\"t = \", vdpsol.t[loc])\n",
    "    println(\"u = \", vdpsol.u[loc])\n",
    "    if idx > 1\n",
    "        println(\"diff to prev = \", vdpsol.t[loc] - vdpsol.t[locs[idx-1]], \"\\n\")\n",
    "    else\n",
    "        println(\"no prev to diff\\n\")\n",
    "    end\n",
    "end\n",
    "# timediff = [vdpsol.t[locs[idx+1]] - vdpsol.t[locs[idx]] for idx in length(locs)-1]\n",
    "# println(timediff)\n",
    "\n",
    "# println(argmin([v[2] for v in vdpsol.u]))\n",
    "# println(vdpsol.u[1])\n",
    "# println(minimum(vdpsol.u[1]))\n",
    "\n",
    "# minimas = [(v[2], t) for v in vdpsol.u, t in vdpsol.t]\n",
    "# for x in minimas\n",
    "#     println(x)\n",
    "# end"
   ]
  }
 ],
 "metadata": {
  "language_info": {
   "name": "python",
   "pygments_lexer": "ipython3"
  }
 },
 "nbformat": 4,
 "nbformat_minor": 5
}
