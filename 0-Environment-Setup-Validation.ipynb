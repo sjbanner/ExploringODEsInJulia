{
 "cells": [
  {
   "cell_type": "markdown",
   "id": "c3344410-d98f-4fd9-81a4-a320561325d7",
   "metadata": {},
   "source": [
    "# Setup environment and make sure it works as expected.\n",
    "\n",
    "This workbook is to validate the environment.\n",
    "\n",
    "I have built a Docker container based on jupyter/datascience-notebook, with _DifferentialEquations_ and _Plots_ added to the container that I am using locally for these notebooks. Eventually all this should get into this repo, but I am still figureing it out.\n"
   ]
  },
  {
   "cell_type": "code",
   "execution_count": null,
   "id": "2ffdb4eb-f5a1-4920-a08c-8276658f81b2",
   "metadata": {},
   "outputs": [],
   "source": [
    "using DifferentialEquations\n",
    "using Plots"
   ]
  },
  {
   "cell_type": "markdown",
   "id": "ef907f2e-836e-4f1a-9f7e-be709d40231d",
   "metadata": {},
   "source": [
    "## First a sample to make sure that basic package is working as expected.\n",
    "\n",
    "This is pulled from the _DifferentialEquations_ Docs. (https://diffeq.sciml.ai/stable/)\n"
   ]
  },
  {
   "cell_type": "code",
   "execution_count": null,
   "id": "60718b60-51f5-47c1-8631-997fefb0cb54",
   "metadata": {},
   "outputs": [],
   "source": [
    "\n",
    "f(u,p,t) = 1.01*u\n",
    "u0 = 1/2\n",
    "tspan = (0.0,1.0)\n",
    "prob = ODEProblem(f,u0,tspan)\n",
    "sol = solve(prob, Tsit5(), reltol=1e-8, abstol=1e-8)\n",
    "\n",
    "plot(sol,linewidth=5,title=\"Solution to the linear ODE with a thick line\",\n",
    "     xaxis=\"Time (t)\",yaxis=\"u(t) (in μm)\",label=\"My Thick Line!\") # legend=false\n",
    "plot!(sol.t, t->0.5*exp(1.01t),lw=3,ls=:dash,label=\"True Solution!\")\n"
   ]
  },
  {
   "cell_type": "markdown",
   "id": "c4c2481d-4402-4f10-afdb-3a30b33bb705",
   "metadata": {},
   "source": [
    "## And now an example from the book to see if _I_ understand how to use the package.\n"
   ]
  },
  {
   "cell_type": "code",
   "execution_count": null,
   "id": "3b31d71d-d2eb-4041-b5db-4ecb2317ad0e",
   "metadata": {},
   "outputs": [],
   "source": [
    "\n",
    "vdp(du, u, p, t) = ((1-u^2)*du - u) / 0.3\n",
    "vdpspan = (0.0, 20.0)\n",
    "vdpprob = SecondOrderODEProblem(vdp, 0.0, 1.0, vdpspan)\n",
    "vdpsol = solve(vdpprob)\n",
    "\n",
    "plot(vdpsol)\n"
   ]
  }
 ],
 "metadata": {
  "language_info": {
   "name": "python",
   "pygments_lexer": "ipython3"
  }
 },
 "nbformat": 4,
 "nbformat_minor": 5
}
