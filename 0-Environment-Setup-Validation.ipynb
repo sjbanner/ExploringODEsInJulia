{
 "cells": [
  {
   "cell_type": "markdown",
   "id": "c3344410-d98f-4fd9-81a4-a320561325d7",
   "metadata": {},
   "source": [
    "# Setup environment and make sure it works as expected.\n",
    "\n",
    "This workbook is to validate the environment.\n",
    "\n",
    "I have built a Docker container based on jupyter/datascience-notebook, with _DifferentialEquations_ and _Plots_ added to the container that I am using locally for these notebooks. Eventually all this should get into this repo, but I am still figureing it out.\n"
   ]
  },
  {
   "cell_type": "code",
   "execution_count": null,
   "id": "b7eab590-1c52-4162-81bb-54dae2abb1a6",
   "metadata": {},
   "outputs": [],
   "source": [
    "using Pkg\n",
    "Pkg.status()"
   ]
  },
  {
   "cell_type": "markdown",
   "id": "eb101850-42c5-46fc-a3f6-907261325237",
   "metadata": {},
   "source": [
    "Only do the following if you really need to, it can take a long time."
   ]
  },
  {
   "cell_type": "code",
   "execution_count": null,
   "id": "3b86fd68-36cc-4350-a4fd-5c2c0705d419",
   "metadata": {},
   "outputs": [],
   "source": [
    "# Pkg.add(\"DifferentialEquations\")\n",
    "# Pkg.add(\"Plots\")\n",
    "# Pkg.add(\"DiffEqBase\")\n",
    "# Pkg.add(\"DiffEqOperators\")\n",
    "# Pkg.add(\"ModelingToolkit\")\n",
    "# Pkg.status()"
   ]
  },
  {
   "cell_type": "code",
   "execution_count": null,
   "id": "5c9e143f-391c-49d1-b1c9-35efc865c539",
   "metadata": {},
   "outputs": [],
   "source": [
    "using DifferentialEquations\n",
    "using Plots\n",
    "using DiffEqBase, DiffEqOperators, LinearAlgebra #, Random\n",
    "using ModelingToolkit\n",
    "# using Markdown\n"
   ]
  },
  {
   "cell_type": "markdown",
   "id": "ef907f2e-836e-4f1a-9f7e-be709d40231d",
   "metadata": {},
   "source": [
    "## First a sample to make sure that basic package is working as expected.\n",
    "\n",
    "This is pulled from the _DifferentialEquations_ Docs. (https://diffeq.sciml.ai/stable/)\n"
   ]
  },
  {
   "cell_type": "code",
   "execution_count": null,
   "id": "60718b60-51f5-47c1-8631-997fefb0cb54",
   "metadata": {},
   "outputs": [],
   "source": [
    "\n",
    "f(u,p,t) = 1.01*u\n",
    "u0 = 1/2\n",
    "tspan = (0.0,1.0)\n",
    "prob = ODEProblem(f,u0,tspan)\n",
    "sol = solve(prob, Tsit5(), reltol=1e-8, abstol=1e-8)\n",
    "\n",
    "plot(sol,linewidth=5,title=\"Solution to the linear ODE with a thick line\",\n",
    "     xaxis=\"Time (t)\",yaxis=\"u(t) (in μm)\",label=\"My Thick Line!\") # legend=false\n",
    "plot!(sol.t, t->0.5*exp(1.01t),lw=3,ls=:dash,label=\"True Solution!\")\n"
   ]
  },
  {
   "cell_type": "markdown",
   "id": "c4c2481d-4402-4f10-afdb-3a30b33bb705",
   "metadata": {},
   "source": [
    "## And now an example from the book to see if _I_ understand how to use the package.\n",
    "\n",
    "Solve: $0.3u'' -(1-u^2)u' + u = 0$"
   ]
  },
  {
   "cell_type": "code",
   "execution_count": null,
   "id": "3b31d71d-d2eb-4041-b5db-4ecb2317ad0e",
   "metadata": {},
   "outputs": [],
   "source": [
    "\n",
    "vdp(du, u, p, t) = ((1-u^2)*du - u) / 0.3\n",
    "vdpspan = (0.0, 20.0)\n",
    "vdpprob = SecondOrderODEProblem(vdp, 0.0, 1.0, vdpspan)\n",
    "vdpsol = solve(vdpprob, reltol=1e-8, abstol=1e-8)\n",
    "\n",
    "plot(vdpsol, vars=(0, 2))\n"
   ]
  },
  {
   "cell_type": "markdown",
   "id": "7632776f-5e8b-41c9-a367-bf2eab5bf909",
   "metadata": {},
   "source": [
    "And get the minimas. First Load my utility routines."
   ]
  },
  {
   "cell_type": "code",
   "execution_count": null,
   "id": "cb038665-afaf-4d75-9663-5394371fd95a",
   "metadata": {},
   "outputs": [],
   "source": [
    "include(\"localminmax.jl\")"
   ]
  },
  {
   "cell_type": "markdown",
   "id": "89bf0bbe-137c-487f-9b63-85a09971d147",
   "metadata": {},
   "source": [
    "**Note:** I am still trying to see how to increase the accuracy here - the book asks for 6 significant digits, but lowering the tolerance in the solver beyond $10^{-8}$ seems to lower the accuracy. This shouldn't be hard (at least, from the book, it seems trivial in MatLab). That said, it appears that I am only seeing an accuracy of about 4 significant digits, which seems wrong given the tolerance specified."
   ]
  },
  {
   "cell_type": "code",
   "execution_count": null,
   "id": "bbc972f3-66b8-4ad6-8d6d-274eb4848844",
   "metadata": {},
   "outputs": [],
   "source": [
    "sigdigits = 6\n",
    "\n",
    "result = [v[2] for v in vdpsol.u]\n",
    "mins = localmins(result)\n",
    "last_min = nothing\n",
    "for cur_min in mins\n",
    "    print(\"t = \", round(vdpsol.t[cur_min[1]], sigdigits=sigdigits),\n",
    "          \" u = \", round(cur_min[2], sigdigits=sigdigits))\n",
    "    if last_min != nothing\n",
    "        println(\"   Diff to last = \", round(vdpsol.t[cur_min[1]] - last_min, sigdigits=sigdigits))\n",
    "    else\n",
    "        println(\"\")\n",
    "    end\n",
    "    last_min = vdpsol.t[cur_min[1]]\n",
    "end\n",
    "println(\"\")\n",
    "\n",
    "maxs = localmaxs(result)\n",
    "last_max = nothing\n",
    "for cur_max in maxs\n",
    "    print(\"t = \", round(vdpsol.t[cur_max[1]], sigdigits=sigdigits),\n",
    "          \" u = \", round(cur_max[2], sigdigits=sigdigits))\n",
    "    if last_max != nothing\n",
    "        println(\"   Diff to last = \", round(vdpsol.t[cur_max[1]] - last_max, sigdigits=sigdigits))\n",
    "    else\n",
    "        println(\"\")\n",
    "    end\n",
    "    last_max = vdpsol.t[cur_max[1]]\n",
    "end\n",
    "println(\"\")\n"
   ]
  },
  {
   "cell_type": "markdown",
   "id": "8bcdf30d-9500-447c-99ed-a630a1372524",
   "metadata": {},
   "source": [
    "Unfortunately we are not getting the same numbers as in the book, they are the same to 3 significant digits, but the book has 5 and the period is certainly not the same to 5 significant digits."
   ]
  },
  {
   "cell_type": "markdown",
   "id": "c330822c-3bb9-4d39-b928-32a4c417394c",
   "metadata": {},
   "source": [
    "# And try it according to the examples repo.\n",
    "\n",
    "This code is from the examples Git Repo refered to in the _DifferentialEquations.jl_ docs (look for the Van der Pol examples):\n",
    "https://github.com/SciML/DiffEqProblemLibrary.jl/blob/master/src/ode/ode_simple_nonlinear_prob.jl\n"
   ]
  },
  {
   "cell_type": "code",
   "execution_count": null,
   "id": "a69ba94a-992f-4eaf-b3ee-909473278f42",
   "metadata": {},
   "outputs": [],
   "source": [
    "@parameters t μ\n",
    "@variables x(t) y(t)\n",
    "D = Differential(t)\n",
    "eqs = [D(y) ~ μ*((1-x^2)*y - x),\n",
    "       D(x) ~ y]\n",
    "de = ODESystem(eqs; name=:van_der_pol)\n",
    "van = ODEFunction(de, [y, x], [μ], jac=true)\n",
    "vspan = (0.0, 20.0)\n",
    "prob_ode_vanderpol = ODEProblem(van, [0.0; 1.0], vspan, [1/0.3])\n",
    "vsol = solve(prob_ode_vanderpol, reltol=1e-8, abstol=1e-8)\n",
    "plot(vsol, vars=(0, 2))"
   ]
  },
  {
   "cell_type": "code",
   "execution_count": null,
   "id": "e44b1813-7c93-4e49-9c9a-d7c7efca6159",
   "metadata": {},
   "outputs": [],
   "source": [
    "sigdigits = 6\n",
    "\n",
    "result = [v[2] for v in vsol.u]\n",
    "mins = localmins(result)\n",
    "last_min = nothing\n",
    "for cur_min in mins\n",
    "    print(\"t = \", round(vsol.t[cur_min[1]], sigdigits=sigdigits),\n",
    "          \" u = \", round(cur_min[2], sigdigits=sigdigits))\n",
    "    if last_min != nothing\n",
    "        println(\"   Diff to last = \", round(vsol.t[cur_min[1]] - last_min, sigdigits=sigdigits))\n",
    "    else\n",
    "        println(\"\")\n",
    "    end\n",
    "    last_min = vsol.t[cur_min[1]]\n",
    "end\n",
    "println(\"\")\n",
    "\n",
    "maxs = localmaxs(result)\n",
    "last_max = nothing\n",
    "for cur_max in maxs\n",
    "    print(\"t = \", round(vsol.t[cur_max[1]], sigdigits=sigdigits),\n",
    "          \" u = \", round(cur_max[2], sigdigits=sigdigits))\n",
    "    if last_max != nothing\n",
    "        println(\"   Diff to last = \", round(vsol.t[cur_max[1]] - last_max, sigdigits=sigdigits))\n",
    "    else\n",
    "        println(\"\")\n",
    "    end\n",
    "    last_max = vsol.t[cur_max[1]]\n",
    "end\n",
    "println(\"\")\n"
   ]
  },
  {
   "cell_type": "markdown",
   "id": "6b561e76-f461-410d-b3ba-6ea7aff2832a",
   "metadata": {},
   "source": [
    "Well, that looks like we actually got it aligning with the book. And I think I like the syntax better.\n"
   ]
  }
 ],
 "metadata": {
  "language_info": {
   "name": "python",
   "pygments_lexer": "ipython3"
  }
 },
 "nbformat": 4,
 "nbformat_minor": 5
}
