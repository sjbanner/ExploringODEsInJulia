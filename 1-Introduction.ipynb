{
 "cells": [
  {
   "cell_type": "markdown",
   "id": "c3344410-d98f-4fd9-81a4-a320561325d7",
   "metadata": {},
   "source": [
    "# Chapter 1 - Introduction\n",
    "\n",
    "Link to \"m-file\": http://people.maths.ox.ac.uk/trefethen/ExplODE/ode01.m\n",
    "\n",
    "## Environment setup\n",
    "Setup the local stuff - first you may need to change the Kernel, but not always.\n",
    "\n",
    "Then setup the packages as needed. The stuff that's commented out should already be there from the build. Don't actually load that unless you need to.\n"
   ]
  },
  {
   "cell_type": "code",
   "execution_count": null,
   "id": "11f4cbf4-903e-43bc-a097-b89a1ec12d47",
   "metadata": {},
   "outputs": [],
   "source": [
    "using Pkg\n",
    "Pkg.status()\n",
    "\n",
    "# Pkg.add(\"DifferentialEquations\")\n",
    "# Pkg.add(\"Plots\")\n",
    "# Pkg.add(\"DiffEqBase\")\n",
    "# Pkg.add(\"DiffEqOperators\")\n",
    "# Pkg.add(\"ModelingToolkit\")\n",
    "# Pkg.status()\n",
    "\n",
    "using DifferentialEquations\n",
    "using Plots\n",
    "using DiffEqBase, DiffEqOperators, LinearAlgebra\n",
    "using ModelingToolkit\n"
   ]
  },
  {
   "cell_type": "markdown",
   "id": "417f9ac2-a360-4002-b6be-126b0ab9e634",
   "metadata": {},
   "source": [
    "# Excercise 1\n",
    "\n",
    "_Local extrema of van der Pol oscillation._ In the van der Pol example\n",
    "(1.2), you can find the local maxima with $max(y,'local')$, and similarly for minima\n",
    "with $min$; you can find both minima and maxima at once with $minandmax$. How close is\n",
    "the first local minimum value (at $t \\approx 1.2$) to its asymptotic value for $t \\to \\infty$? Likewise for the first local maximum (at $t \\approx 3.2$)?\n",
    "\n",
    "Note, that in Julia I didn't see any way to make the minimum/maximum functions work like that, hence the ones I built, at least till I learn of a better way.\n",
    "\n",
    "\n",
    "## From example 1.2\n",
    "\n",
    "Van der Pol equation: $0.3u'' -(1-u^2)u' + u = 0$\n",
    "\n",
    "Borrowing the code the examples Git Repo refered to in the _DifferentialEquations.jl_ docs (look for the Van der Pol examples):\n",
    "https://github.com/SciML/DiffEqProblemLibrary.jl/blob/master/src/ode/ode_simple_nonlinear_prob.jl\n",
    "\n",
    "We rewrite the Second Order Function as a system of First Order Functions (per Excercise 1.5):\n",
    "\n",
    "$$ \\frac{dy}{dt} = \\mu ((1-x^2)y - x)$$\n",
    "\n",
    "$$ \\frac{dx}{dt} = y$$\n",
    "\n",
    "Where $\\mu = \\frac 1 {0.3}$\n",
    "\n",
    "so:\n"
   ]
  },
  {
   "cell_type": "code",
   "execution_count": null,
   "id": "9abce642-f48a-4219-aed6-650c779ecb78",
   "metadata": {},
   "outputs": [],
   "source": [
    "@parameters t μ\n",
    "@variables x(t) y(t)\n",
    "D = Differential(t)\n",
    "eqs = [D(y) ~ μ*((1-x^2)*y - x),\n",
    "       D(x) ~ y]\n",
    "de = ODESystem(eqs; name=:van_der_pol)\n",
    "van = ODEFunction(de, [y, x], [μ], jac=true)\n",
    "u0 = [0.0; 1.0]\n",
    "vspan = (0.0, 20.0)\n",
    "μ = 1/0.3\n",
    "prob_ode_vanderpol = ODEProblem(van, u0, vspan, [μ])\n",
    "vsol = solve(prob_ode_vanderpol, reltol=1e-8, abstol=1e-8)\n",
    "plot(vsol, vars=(0, 2))"
   ]
  },
  {
   "cell_type": "markdown",
   "id": "7632776f-5e8b-41c9-a367-bf2eab5bf909",
   "metadata": {},
   "source": [
    "And get the minimas. First Load my utility routines."
   ]
  },
  {
   "cell_type": "code",
   "execution_count": null,
   "id": "cb038665-afaf-4d75-9663-5394371fd95a",
   "metadata": {},
   "outputs": [],
   "source": [
    "include(\"localminmax.jl\")"
   ]
  },
  {
   "cell_type": "code",
   "execution_count": null,
   "id": "bbc972f3-66b8-4ad6-8d6d-274eb4848844",
   "metadata": {},
   "outputs": [],
   "source": [
    "sigdigits = 6\n",
    "\n",
    "result = [v[2] for v in vsol.u]\n",
    "mins = localmins(result)\n",
    "last_min = nothing\n",
    "for cur_min in mins\n",
    "    print(\"t = \", round(vsol.t[cur_min[1]], sigdigits=sigdigits),\n",
    "          \" u = \", round(cur_min[2], sigdigits=sigdigits))\n",
    "    if last_min != nothing\n",
    "        println(\"   Diff to last = \", round(vsol.t[cur_min[1]] - last_min, sigdigits=sigdigits))\n",
    "    else\n",
    "        println(\"\")\n",
    "    end\n",
    "    last_min = vsol.t[cur_min[1]]\n",
    "end\n",
    "println(\"\")\n",
    "\n",
    "maxs = localmaxs(result)\n",
    "last_max = nothing\n",
    "for cur_max in maxs\n",
    "    print(\"t = \", round(vsol.t[cur_max[1]], sigdigits=sigdigits),\n",
    "          \" u = \", round(cur_max[2], sigdigits=sigdigits))\n",
    "    if last_max != nothing\n",
    "        println(\"   Diff to last = \", round(vsol.t[cur_max[1]] - last_max, sigdigits=sigdigits))\n",
    "    else\n",
    "        println(\"\")\n",
    "    end\n",
    "    last_max = vsol.t[cur_max[1]]\n",
    "end\n",
    "println(\"\")\n"
   ]
  },
  {
   "cell_type": "markdown",
   "id": "b943e05b-bf50-4540-b9fb-f850603993b8",
   "metadata": {},
   "source": [
    "\n",
    "The minima at $t \\approx 1.2: u'' = -1.93805$ which is $0.08017 = 3.97%$ off from the minima at $t = 5.2397: u'' = -2.01822$ which closely matches the following minima. However the maxima at $t \\approx 3.2: u''=2.01831$ which has already converged to what we see in the following maxima to within 4 significant digits.\n"
   ]
  },
  {
   "cell_type": "markdown",
   "id": "7f86b4ed-176d-4f9e-a1e3-23ebd8246f4c",
   "metadata": {},
   "source": [
    "# Exercise 1.2\n",
    "\n",
    "_Classification of ODE problems._ Classify the following ODE problems\n",
    "according to the FLASHI scheme.\n",
    "\n",
    "1. $y' = sin(t) − y, t \\in [0, 100], y(0) = 1$\n",
    "    * FLaSHI\n",
    "2. $y' = sin(t) − y^3, t \\in [0, 100], y(0) = 1$\n",
    "    * FlaSHI\n",
    "3. (Nonlinear pendulum equation) $y'' = −sin(y), t \\in [0, 10], y(0) = y(10) = 2$\n",
    "    * fLASHI\n",
    "4. (Advection-diffusion equation) $0.02y'' + y' + y = 0, t \\in [0, 1], y(0) = 0, y(1) = 1$\n",
    "    * fLASHI\n",
    "5. (Airy equation) $0.02y'' − ty = 0, t \\in [−5, 5], y(−5) = 1, y(5) = 0$\n",
    "    * fLaSHi\n",
    "6. (Harmonic oscillator) $u' = v, v' = −u, t \\in [0, 100], u(0) = 1, v(0) = 0$\n",
    "    * FLAsHI\n",
    "7. $u' = u^2v, v' = −uv^2, t \\in [0, 2], u(0) = 1, v(0) = 0$\n",
    "    * FlAsHI\n",
    "8. (Bessel equation) $t^2y'' + ty' + (t^2 − 4)y = 0, t \\in [0, 8], y(0) = 0, y(8) = 1$\n",
    "    * flaSHI\n",
    "9. $0.1y'' + yy' = y, t \\in [−1, 1], y(−1) = −2, y(1) = 1$\n",
    "    * flASHi\n",
    "10. (Lotka–Volterra equations) $u' = u(1−v), v' = v(u−1), t \\in [0, 10], u(0) = v(0) = 1$\n",
    "    * FlAsHi\n",
    "11. (Blasius equation) $y''' + 0.5yy'' = 0, t \\in [0, 10], y(0) = y'(0) = 0, y'(10) = 1$\n",
    "    * flASHI"
   ]
  },
  {
   "cell_type": "markdown",
   "id": "dc7645d4-8c15-4bda-8d3c-1eec0a9a8998",
   "metadata": {},
   "source": [
    "# Exercise 1.3\n",
    "\n",
    "_Airy equation._ Plot the solution $y$ of the problem of Exercise 1.2(5)\n",
    "and report its maximum value. Letting $k$ denote the coefficient $0.02$, do the same\n",
    "with $k = 0.002$. Now make a plot of $max(y)$ as a function of $k$ for the values $k =\n",
    "0.001, 0.002, . . . , 0.039, 0.040$. (We shall explore such effects in Chapter 6.)\n",
    "\n",
    "(Airy equation) $0.02y'' − ty = 0, t \\in [−5, 5], y(−5) = 1, y(5) = 0$\n",
    "\n",
    "Rewriting for Julia package: $y'' = ty/0.02, t \\in [-5, 5], y(-5) = 1, y(5) = 0$\n",
    "\n",
    "And parameterizing the multiple constant: $y'' - ty/k$\n",
    "\n",
    "And then reducing to a _First Order System of Equations_:\n",
    "\n",
    "Let: $y' = x$\n",
    "\n",
    "so: $y'' = x'$\n",
    "\n",
    "therefore: $y'' = x' = ty/k$\n"
   ]
  },
  {
   "cell_type": "code",
   "execution_count": null,
   "id": "68573521-2dd9-40f3-8dbf-085562e5b47b",
   "metadata": {},
   "outputs": [],
   "source": [
    "# Reformulating this with the macros...\n",
    "@parameters t k off\n",
    "@variables x(t) y(t)\n",
    "D = Differential(t)\n",
    "airy_eqs = [D(y) ~ (t * x + off) / k,\n",
    "            D(x) ~ y]\n",
    "# The following for Fig 7.5\n",
    "# airy_eqs = [D(x) ~ (sin(t) * y + off) / k,\n",
    "#             D(y) ~ x]\n",
    "airy_de = ODESystem(airy_eqs; name=:airy)\n",
    "airy = ODEFunction(airy_de, [x, y], [k, off])\n",
    "function airy_bc!(residual, u, p, t)\n",
    "    # Boundary Conditions: u0 = [0.0; 1.0]\n",
    "    residual[1] = u[1][1]\n",
    "    residual[end] = u[end][1] - 1.0\n",
    "#     residual[end] = u[end][1]\n",
    "end\n",
    "aspan = (-5.0, 5.0)\n",
    "# aspan = (-4π, 4π)\n",
    "aparam = 0.02\n",
    "# aparam = 0.003\n",
    "aoff = 0.0\n",
    "# aoff = 1.0\n",
    "initial_guess = [1.0, 0.0]\n",
    "prob_ode_airy = TwoPointBVProblem(airy, airy_bc!, initial_guess, aspan, [aparam, aoff])\n",
    "asol = solve(prob_ode_airy, MIRK4(), dt=0.05)\n",
    "plot(asol, vars=(0, 2))"
   ]
  },
  {
   "cell_type": "markdown",
   "id": "4ac48579-a294-444e-847f-c40217252e34",
   "metadata": {},
   "source": [
    "This clearly doesn't match Fig 7.2 on page 78, but I was able to match Fig 7.5 on page 81 (commented code), so I am confident that I have it formulated correctly.\n",
    "\n",
    "So, now use the above to look at how varying the constant $k$ changes it."
   ]
  },
  {
   "cell_type": "code",
   "execution_count": null,
   "id": "fe799792-08e6-4d65-8ef0-e4374dc8618d",
   "metadata": {},
   "outputs": [],
   "source": [
    "max_list = []\n",
    "k_range = 0.001:0.001:0.040\n",
    "for k in k_range\n",
    "    println(\"k: \", k)\n",
    "    prob_ode_airy = TwoPointBVProblem(airy, airy_bc!, initial_guess, aspan, [k, aoff])\n",
    "    println(\"Problem defined\")\n",
    "    asol = solve(prob_ode_airy, MIRK4(), dt=0.05)\n",
    "    println(\"Problem solved\")\n",
    "    push!(max_list, maximum(asol.u[2]))\n",
    "    println(\"k: \", k, \" max: \", max_list[end])\n",
    "end"
   ]
  },
  {
   "cell_type": "markdown",
   "id": "aa501ee9-052a-47d0-885d-49e58c183925",
   "metadata": {},
   "source": [
    "We can see from looking at the max values above (and the first shots at graphing them) that the first value ($k=0.001$) is several orders of magnitude different from the rest of the values, so it's useful to exclude the first number, or the whole graph is just one \"large\" point, and a line at almost zero, even when we apply log scaling.\n",
    "\n",
    "I don't know if this is what is expected here, but I am guessing it is properly not. However, this is what I get, so I will leave it for now and maybe come back to it at a future time."
   ]
  },
  {
   "cell_type": "code",
   "execution_count": null,
   "id": "f605f08f-a035-4058-a12e-2bb8855bc8ce",
   "metadata": {},
   "outputs": [],
   "source": [
    "plot(k_range[2:end], max_list[2:end])  #, xaxis=:log)"
   ]
  },
  {
   "cell_type": "markdown",
   "id": "8a256d74-1996-4ec6-8f1f-8b7e3f7ee5a9",
   "metadata": {},
   "source": [
    "# Exercise 1.4\n",
    "\n",
    "_Solution with rapid transient._ Plot the solution y of the problem of\n",
    "Exercise 1.2(9), and give its maximum slope $s = max_{t \\in [−1,1]} y'(t)$. Do the same with\n",
    "the coefficient $0.1$ reduced to $1/20$, $1/40$, and $1/80$."
   ]
  },
  {
   "cell_type": "markdown",
   "id": "0c325986-b960-4ce5-b1f2-95e8e276e831",
   "metadata": {},
   "source": [
    "$ 0.1y''+yy'=y, t\\in[-1,1], y(-1)=-2, y(1)=1$\n",
    "\n",
    "Rewriting this for the DifferentialEquations package:\n",
    "\n",
    "$ 0.1y'' + yy' = y$\n",
    "\n",
    "Let $y' = x$, then:\n",
    "\n",
    "$ 0.1x' + yx = y $\n",
    "\n",
    "$ 0.1x' = y - yx = y(1 - x)$\n",
    "\n",
    "$ x' = y(1 - x)/0.1 $\n",
    "\n",
    "Let $p = 0.1$ and we get:\n",
    "\n",
    "$ x' = y(1 - x)/p $\n"
   ]
  },
  {
   "cell_type": "code",
   "execution_count": null,
   "id": "f9178879-23f7-40b5-bc07-b073885c97bc",
   "metadata": {},
   "outputs": [],
   "source": [
    "@parameters t4 p4\n",
    "@variables x4(t4) y4(t4)\n",
    "D = Differential(t4)\n",
    "eqs4 = [D(x4) ~ y4*(1 - x4) / p4,\n",
    "        D(y4) ~ x4]\n",
    "\n",
    "de4 = ODESystem(eqs4; name=:eqs4)\n",
    "eq4 = ODEFunction(de4, [x4, y4], [p4])\n",
    "function eqs4_bc!(residual, u, p, t)\n",
    "    residual[1] = u[1][1] - p[2]\n",
    "    residual[end] = u[end][1] - p[3]\n",
    "end\n",
    "eq4_span = (-1, 1)\n",
    "eq4_param = 0.1\n",
    "eq4_boundary = (-2.0, 1.0)\n",
    "initial_guess = [1.0, 0.0]\n",
    "prob_ode_eq4 = TwoPointBVProblem(eq4, eqs4_bc!, initial_guess, eq4_span, [eq4_param, eq4_boundary...])\n",
    "eq4_sol = solve(prob_ode_eq4, MIRK4(), dt=0.05)\n",
    "plot(title=\"Parameter = \" * string(eq4_param))\n",
    "#plot!(eq4_sol, vars=(0, 2))\n",
    "plot!(eq4_sol)"
   ]
  },
  {
   "cell_type": "code",
   "execution_count": null,
   "id": "3ea08b85-7adb-4359-84a8-04af5b699782",
   "metadata": {},
   "outputs": [],
   "source": [
    "println(\"Max([y', y''] = \" * string(maximum(eq4_sol.u)))"
   ]
  },
  {
   "cell_type": "code",
   "execution_count": null,
   "id": "ef5b3906-01b6-442c-a0c3-4720c0093f71",
   "metadata": {},
   "outputs": [],
   "source": [
    "eq4_param = 1/20\n",
    "prob_ode_eq4 = TwoPointBVProblem(eq4, eqs4_bc!, initial_guess, eq4_span, [eq4_param, eq4_boundary...])\n",
    "eq4_sol = solve(prob_ode_eq4, MIRK4(), dt=0.05)\n",
    "plot(title=\"Parameter = \" * string(eq4_param))\n",
    "plot!(eq4_sol)"
   ]
  },
  {
   "cell_type": "code",
   "execution_count": null,
   "id": "2825bc7e-cf7b-461b-a536-15fd4db629f8",
   "metadata": {},
   "outputs": [],
   "source": [
    "println(\"Max([y', y''] = \" * string(maximum(eq4_sol.u)))"
   ]
  },
  {
   "cell_type": "code",
   "execution_count": null,
   "id": "e506c2a1-37c8-4c9c-aa11-199ff5c569e5",
   "metadata": {},
   "outputs": [],
   "source": [
    "eq4_param = 1/40\n",
    "prob_ode_eq4 = TwoPointBVProblem(eq4, eqs4_bc!, initial_guess, eq4_span, [eq4_param, eq4_boundary...])\n",
    "eq4_sol = solve(prob_ode_eq4, MIRK4(), dt=0.05)\n",
    "plot(title=\"Parameter = \" * string(eq4_param))\n",
    "plot!(eq4_sol)"
   ]
  },
  {
   "cell_type": "code",
   "execution_count": null,
   "id": "3cd0bd65-62e0-4b1b-89e7-3a6386479d7c",
   "metadata": {},
   "outputs": [],
   "source": [
    "println(\"Max([y', y''] = \" * string(maximum(eq4_sol.u)))"
   ]
  },
  {
   "cell_type": "code",
   "execution_count": null,
   "id": "a17ae273-e881-4088-a1af-955136526516",
   "metadata": {},
   "outputs": [],
   "source": [
    "eq4_param = 1/80\n",
    "prob_ode_eq4 = TwoPointBVProblem(eq4, eqs4_bc!, initial_guess, eq4_span, [eq4_param, eq4_boundary...])\n",
    "eq4_sol = solve(prob_ode_eq4, MIRK4(), dt=0.05)\n",
    "plot(title=\"Parameter = \" * string(eq4_param))\n",
    "plot!(eq4_sol)"
   ]
  },
  {
   "cell_type": "code",
   "execution_count": null,
   "id": "ce69c7af-c028-47c1-bb95-2d059d07e909",
   "metadata": {},
   "outputs": [],
   "source": [
    "println(\"Max([y', y''] = \" * string(maximum(eq4_sol.u)))"
   ]
  },
  {
   "cell_type": "markdown",
   "id": "f74149d7-0c7e-43cb-9cb6-ff74bd1e1e4b",
   "metadata": {},
   "source": [
    "I don't know if I am interpreting this right, I will continue and maybe come back to it, but it doesn't look like a rapid transient to me - or maybe that's what is shifting $y'$ from just below zero, to just above zero."
   ]
  },
  {
   "cell_type": "markdown",
   "id": "6823e17b-1311-482c-90ab-2e7315e8e8cd",
   "metadata": {},
   "source": [
    "# Exercise 1.5\n",
    "\n",
    "_Reduction to first-order system._ (a) Show how the IVP of Exercise 1.2(6)\n",
    "can be rewritten as a second-order scalar IVP involving just the dependent variable u.\n",
    "What are the initial conditions for this IVP? (b) Conversely, show how the third-order\n",
    "IVP of Exercise 1.2(11) can be rewritten as a first-order system involving three variables\n",
    "$u$, $v$, and $w$. Any higher-order ODE problem can be rewritten as a first-order problem\n",
    "like this, and numerical software for IVPs often requires the problem to be expressed\n",
    "in first-order form."
   ]
  },
  {
   "cell_type": "markdown",
   "id": "92ebfe99-ce0f-43ff-98c3-7f0165dfb33e",
   "metadata": {},
   "source": [
    "I am going to skip this, as we have already been doing this to use the Julia DifferentialEquations package in the excercises above."
   ]
  },
  {
   "cell_type": "markdown",
   "id": "5f40b892-b594-4cb1-b4f1-5c31f20b63c7",
   "metadata": {},
   "source": [
    "# Exercise 1.6\n",
    "\n",
    "How Chebfun represents functions. Chebfun normally represents solutions\n",
    "$y(t)$ to ODEs by polynomial approximations, typically with an accuracy of about\n",
    "10 digits, whose degree $n$ may be quite high. The polynomials can be interpreted as\n",
    "interpolants through a sufficiently large number $n + 1$ of samples at Chebyshev points\n",
    "defined by $t_j = cos(\\pi j/n), 0 \\le j \\le n$ for $t \\in [−1, 1]$, or linearly transplanted to a\n",
    "different interval $[a, b]$. (a) Let $y$ be the computed solution of the problem (1.1). Execute\n",
    "$length(y)$ to find the number $n + 1$ for this function, and $plot(y,'.-')$ to see\n",
    "the associated Chebyshev points. (b) Do the same for the computed solution of the\n",
    "van der Pol problem (1.2). Approximately speaking (say, to within 10%), how many\n",
    "interpolation points are there on average per wavelength?"
   ]
  },
  {
   "cell_type": "markdown",
   "id": "986c8c5c-0022-4da3-837e-e18afee305e4",
   "metadata": {},
   "source": [
    "I am going to skip this one as well. I don't know how the Julia DifferentialEquations package works, and this is quite probably doable in a similar way, but it appears to be sufficiently different that the discussion might not (but probably does) hold. We can probably do this easily enough by looking at $solution.t$."
   ]
  },
  {
   "cell_type": "markdown",
   "id": "a15d8fd0-3ca4-44ea-a6b7-a3654e811a06",
   "metadata": {},
   "source": [
    "# Exercise 1.7\n",
    "\n",
    "How Chebfun represents periodic functions. Chebfun also has a representation\n",
    "for periodic functions that takes advantage of the periodicity, based on\n",
    "trigonometric polynomials (i.e., Fourier series) rather than ordinary algebraic polynomials.\n",
    "Periodic solutions arise naturally in ODEs with periodic coefficients (see Chapter\n",
    "19). (a) Construct an ordinary chebfun for $f(t) = (1.1 − cos(\\pi t))\n",
    "−1, t \\in [−1, 1]$\n",
    "with the command $chebfun('1/(1.1-cos(pi*x))')$. What is its length? (b) How\n",
    "does the length change if you use $chebfun('1/(1.1-cos(pi*x))','trig')$? (In an\n",
    "appropriate limit, the ratio of the two lengths approaches $\\pi/2$.)"
   ]
  },
  {
   "cell_type": "markdown",
   "id": "04515b0b-04d7-453f-a5ef-899155acf39b",
   "metadata": {},
   "source": [
    "Again, this is refering to the internals of Chebfun, and Julia's package is different. I may come back to these in the future, but for now I will proceed to chapter 2."
   ]
  }
 ],
 "metadata": {
  "language_info": {
   "name": "python",
   "pygments_lexer": "ipython3"
  }
 },
 "nbformat": 4,
 "nbformat_minor": 5
}
