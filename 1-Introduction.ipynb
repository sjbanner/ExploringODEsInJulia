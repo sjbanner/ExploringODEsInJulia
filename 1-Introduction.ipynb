{
 "cells": [
  {
   "cell_type": "markdown",
   "id": "c3344410-d98f-4fd9-81a4-a320561325d7",
   "metadata": {},
   "source": [
    "# Setup environment and make sure it works as expected.\n",
    "\n",
    "This workbook is to validate the environment.\n",
    "\n",
    "I have built a Docker container based on jupyter/datascience-notebook, with _DifferentialEquations_ and _Plots_ added to the container that I am using locally for these notebooks. Eventually all this should get into this repo, but I am still figureing it out.\n"
   ]
  },
  {
   "cell_type": "code",
   "execution_count": null,
   "id": "b7eab590-1c52-4162-81bb-54dae2abb1a6",
   "metadata": {},
   "outputs": [],
   "source": [
    "using Pkg\n",
    "Pkg.status()"
   ]
  },
  {
   "cell_type": "markdown",
   "id": "eb101850-42c5-46fc-a3f6-907261325237",
   "metadata": {},
   "source": [
    "Only do the following if you really need to, it can take a long time."
   ]
  },
  {
   "cell_type": "code",
   "execution_count": null,
   "id": "3b86fd68-36cc-4350-a4fd-5c2c0705d419",
   "metadata": {},
   "outputs": [],
   "source": [
    "# Pkg.add(\"DifferentialEquations\")\n",
    "# Pkg.add(\"Plots\")\n",
    "# Pkg.status()"
   ]
  },
  {
   "cell_type": "code",
   "execution_count": null,
   "id": "5c9e143f-391c-49d1-b1c9-35efc865c539",
   "metadata": {},
   "outputs": [],
   "source": [
    "using DifferentialEquations\n",
    "using Plots"
   ]
  },
  {
   "cell_type": "markdown",
   "id": "51e0dfb5-3b13-44c3-a6ff-c28ac147a6d3",
   "metadata": {},
   "source": [
    "# Excercise 1\n",
    "\n",
    "_Local extrema of van der Pol oscillation._ In the van der Pol example\n",
    "(1.2), you can find the local maxima with $max(y,'local')$, and similarly for minima\n",
    "with $min$; you can find both minima and maxima at once with $minandmax$. Howclose is\n",
    "the first local minimum value (at $t \\approx 1.2$) to its asymptotic value for $t \\to \\infty$? Likewise for the first local maximum (at $t \\approx 3.2$)?\n",
    "\n",
    "Note, that in Julia, the min/max functions don't work like that, hence the ones I built, at least till I learn of a better way.\n"
   ]
  },
  {
   "cell_type": "markdown",
   "id": "c4c2481d-4402-4f10-afdb-3a30b33bb705",
   "metadata": {},
   "source": [
    "## And now an example from the book to see if _I_ understand how to use the package.\n",
    "\n",
    "Solve: $0.3u'' -(1-u^2)u' + u = 0$"
   ]
  },
  {
   "cell_type": "code",
   "execution_count": null,
   "id": "3b31d71d-d2eb-4041-b5db-4ecb2317ad0e",
   "metadata": {},
   "outputs": [],
   "source": [
    "\n",
    "vdp(du, u, p, t) = ((1-u^2)*du - u) / 0.3\n",
    "vdpspan = (0.0, 20.0)\n",
    "vdpprob = SecondOrderODEProblem(vdp, 0.0, 1.0, vdpspan)\n",
    "vdpsol = solve(vdpprob, reltol=1e-8, abstol=1e-8)\n",
    "\n",
    "plot(vdpsol, vars=(0, 2))\n"
   ]
  },
  {
   "cell_type": "markdown",
   "id": "7632776f-5e8b-41c9-a367-bf2eab5bf909",
   "metadata": {},
   "source": [
    "And get the minimas. First Load my utility routines."
   ]
  },
  {
   "cell_type": "code",
   "execution_count": null,
   "id": "cb038665-afaf-4d75-9663-5394371fd95a",
   "metadata": {},
   "outputs": [],
   "source": [
    "include(\"localminmax.jl\")"
   ]
  },
  {
   "cell_type": "markdown",
   "id": "89bf0bbe-137c-487f-9b63-85a09971d147",
   "metadata": {},
   "source": [
    "**Note:** I am still trying to see how to increase the accuracy here - the book asks for 6 significant digits, but lowering the tolerance in the solver beyond $10^{-8}$ seems to lower the accuracy. This shouldn't be hard (at least, from the book, it seems trivial in MatLab). That said, it appears that I am only seeing an accuracy of about 4 significant digits, which seems wrong given the tolerance specified."
   ]
  },
  {
   "cell_type": "code",
   "execution_count": null,
   "id": "bbc972f3-66b8-4ad6-8d6d-274eb4848844",
   "metadata": {},
   "outputs": [],
   "source": [
    "sigdigits = 6\n",
    "\n",
    "result = [v[2] for v in vdpsol.u]\n",
    "mins = localmins(result)\n",
    "last_min = nothing\n",
    "for cur_min in mins\n",
    "    print(\"t = \", round(vdpsol.t[cur_min[1]], sigdigits=sigdigits),\n",
    "          \" u = \", round(cur_min[2], sigdigits=sigdigits))\n",
    "    if last_min != nothing\n",
    "        println(\"   Diff to last = \", round(vdpsol.t[cur_min[1]] - last_min, sigdigits=sigdigits))\n",
    "    else\n",
    "        println(\"\")\n",
    "    end\n",
    "    last_min = vdpsol.t[cur_min[1]]\n",
    "end\n",
    "println(\"\")\n",
    "\n",
    "maxs = localmaxs(result)\n",
    "last_max = nothing\n",
    "for cur_max in maxs\n",
    "    print(\"t = \", round(vdpsol.t[cur_max[1]], sigdigits=sigdigits),\n",
    "          \" u = \", round(cur_max[2], sigdigits=sigdigits))\n",
    "    if last_max != nothing\n",
    "        println(\"   Diff to last = \", round(vdpsol.t[cur_max[1]] - last_max, sigdigits=sigdigits))\n",
    "    else\n",
    "        println(\"\")\n",
    "    end\n",
    "    last_max = vdpsol.t[cur_max[1]]\n",
    "end\n",
    "println(\"\")\n"
   ]
  },
  {
   "cell_type": "markdown",
   "id": "8bcdf30d-9500-447c-99ed-a630a1372524",
   "metadata": {},
   "source": [
    "Unfortunately we are not getting the same numbers as in the book, they are the same to 3 significant digits, but the book has 5 and the period is certainly not the same to 5 significant digits."
   ]
  }
 ],
 "metadata": {
  "language_info": {
   "name": "python",
   "pygments_lexer": "ipython3"
  }
 },
 "nbformat": 4,
 "nbformat_minor": 5
}
