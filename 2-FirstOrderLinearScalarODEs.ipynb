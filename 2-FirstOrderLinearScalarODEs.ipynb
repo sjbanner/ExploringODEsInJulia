{
 "cells": [
  {
   "cell_type": "markdown",
   "id": "c3344410-d98f-4fd9-81a4-a320561325d7",
   "metadata": {},
   "source": [
    "# Chapter 2 - First Order, Linear, Scalar ODEs\n",
    "\n",
    "Link to \"m-file\": http://people.maths.ox.ac.uk/trefethen/ExplODE/ode02.m\n",
    "\n",
    "## Environment setup\n",
    "Setup the local stuff - first you may need to change the Kernel, but not always.\n",
    "\n",
    "Then setup the packages as needed. The stuff that's commented out should already be there from the build. Don't actually load that unless you need to.\n"
   ]
  },
  {
   "cell_type": "code",
   "execution_count": null,
   "id": "11f4cbf4-903e-43bc-a097-b89a1ec12d47",
   "metadata": {},
   "outputs": [],
   "source": [
    "using Pkg\n",
    "Pkg.status()\n",
    "\n",
    "# Pkg.add(\"DifferentialEquations\")\n",
    "# Pkg.add(\"Plots\")\n",
    "# Pkg.add(\"DiffEqBase\")\n",
    "# Pkg.add(\"DiffEqOperators\")\n",
    "# Pkg.add(\"ModelingToolkit\")\n",
    "# Pkg.status()\n",
    "\n",
    "using DifferentialEquations\n",
    "using Plots\n",
    "using DiffEqBase, DiffEqOperators, LinearAlgebra\n",
    "using ModelingToolkit\n"
   ]
  },
  {
   "cell_type": "markdown",
   "id": "44021c62-f313-4bcb-92cb-17a92ce94990",
   "metadata": {},
   "source": [
    "# Examples from the text.\n",
    "\n",
    "Before getting into the excercises, I am going to reproduce the graphs in the text as an excercise to help ensure that I know what I am doing with the Julia DifferentialEquations package. Once my confidence in this increases (probably in two or three chapters), I am likely to stop doing this, but for now it's good practice.\n"
   ]
  },
  {
   "cell_type": "markdown",
   "id": "a385fb62-6ba0-4f37-94b8-eb5e33185752",
   "metadata": {},
   "source": [
    "## Figure 2.1 Exponantial growth or decay depending on $a$\n",
    "\n",
    "Note the use of _f21_ to indicate the parameters, variables, etc associated with this excercise. I will use this convention to avoid issues between figures and excercises - excercises using _e_ rather than _f_."
   ]
  },
  {
   "cell_type": "code",
   "execution_count": null,
   "id": "0184267a-c8f4-4f4a-869a-06247b7b788f",
   "metadata": {},
   "outputs": [],
   "source": [
    "f21(y, a, t) = y * a\n",
    "f21_y0 = 1\n",
    "f21_span = (0, 1)\n",
    "\n",
    "plt = plot(title=\"Exponantial growth or decay for a = ?\", ylims=(0.0, 5.0))\n",
    "\n",
    "for a in -10:2:10\n",
    "    f21_prob = ODEProblem(f21, f21_y0, f21_span, a)\n",
    "    f21_sol = solve(f21_prob, reltol=1e-8, abstol=1e-8)\n",
    "    plot!(plt, f21_sol, label=string(a))\n",
    "end\n",
    "\n",
    "display(plt)"
   ]
  },
  {
   "cell_type": "markdown",
   "id": "44539a2d-8eba-4480-9fe3-d46c4ff6a076",
   "metadata": {},
   "source": [
    "## Figure 2.2 - Smooth Homogeneous ODE\n",
    "\n",
    "$ y' = sin(t^2)y, t \\in [0,8], y(0) = 1 $\n"
   ]
  },
  {
   "cell_type": "code",
   "execution_count": null,
   "id": "0653e6dd-2324-490a-ac2f-10a6976e56c3",
   "metadata": {},
   "outputs": [],
   "source": [
    "function f22(y, p, t)\n",
    "    return y * sin(t^2)\n",
    "end\n",
    "\n",
    "f22_y0 = 1.0\n",
    "f22_span = (0.0, 8.0)\n",
    "\n",
    "plt = plot(title=\"Smooth homogeneous ODE\", ylims=(0.5, 3.0))\n",
    "\n",
    "f22_prob = ODEProblem(f22, f22_y0, f22_span)\n",
    "f22_sol = solve(f22_prob, reltol=1e-8, abstol=1e-8)\n",
    "plot!(plt, f22_sol, color=:darkgreen)\n",
    "\n",
    "display(plt)"
   ]
  },
  {
   "cell_type": "markdown",
   "id": "622ddea9-f3dd-40fa-aef2-da4dd4164de5",
   "metadata": {},
   "source": [
    "**Note:** Have to use the _function_ keyword, or an anonymous function. Using the _inline_ format from _Figure 2.1_ gets into parameter type problems."
   ]
  },
  {
   "cell_type": "markdown",
   "id": "6d092595-8cbf-413a-a11f-9b573d92337a",
   "metadata": {},
   "source": [
    "## Figure 2.3 - Nonsmooth homogeneous ODE\n",
    "\n",
    "$ y' = sign(sin(t^2))y, t \\in [0,8], y(0) = 1 $\n"
   ]
  },
  {
   "cell_type": "code",
   "execution_count": null,
   "id": "aa722c5e-8dd4-4551-888d-9f030a4ab78d",
   "metadata": {},
   "outputs": [],
   "source": [
    "f23 = (y, p, t) -> y * sign(sin(t^2))\n",
    "\n",
    "f23_y0 = 1.0\n",
    "f23_span = (0.0, 8.0)\n",
    "\n",
    "plt = plot(title=\"Non-smooth homogeneous ODE\", ylims=(0.5, 8.0))\n",
    "\n",
    "f23_prob = ODEProblem(f23, f23_y0, f23_span)\n",
    "f23_sol = solve(f23_prob, reltol=1e-8, abstol=1e-8)\n",
    "plot!(plt, f23_sol, color=:darkgreen)\n",
    "\n",
    "display(plt)"
   ]
  },
  {
   "cell_type": "markdown",
   "id": "b26c07aa-6688-43e8-a4e5-c56db50902e3",
   "metadata": {},
   "source": [
    "## Figure 2.4 - Smooth inhomogeneous ODE\n",
    "\n",
    "$ y' + y = sin(t^2), t \\in [0,8], y(0) = 0 $\n"
   ]
  },
  {
   "cell_type": "code",
   "execution_count": null,
   "id": "5aaf191a-de05-4dd2-adbb-8e65a6a9dd7c",
   "metadata": {},
   "outputs": [],
   "source": [
    "f24 = (y, p, t) ->  sin(t^2) - y\n",
    "\n",
    "f24_y0 = 0.0\n",
    "f24_span = (0.0, 8.0)\n",
    "\n",
    "plt = plot(title=\"Smooth inhomogeneous ODE\")\n",
    "\n",
    "f24_prob = ODEProblem(f24, f24_y0, f24_span)\n",
    "f24_sol = solve(f24_prob, reltol=1e-8, abstol=1e-8)\n",
    "plot!(plt, f24_sol, color=:darkgreen)\n",
    "\n",
    "display(plt)"
   ]
  },
  {
   "cell_type": "markdown",
   "id": "b4624bd2-38c6-477d-8880-fd77a137d66c",
   "metadata": {},
   "source": [
    "## Figure 2.5 - Non-smooth inhomogeneous ODE\n",
    "\n",
    "$ y' + y = sign(sin(t^2)), t \\in [0,8], y(0) = 0 $\n"
   ]
  },
  {
   "cell_type": "code",
   "execution_count": null,
   "id": "11d0bf16-b0ff-469c-87c9-fa62886497a6",
   "metadata": {},
   "outputs": [],
   "source": [
    "f25 = (y, p, t) -> sign(sin(t^2)) - y\n",
    "\n",
    "f25_y0 = 0.0\n",
    "f25_span = (0.0, 8.0)\n",
    "\n",
    "plt = plot(title=\"Non-smooth inhomogeneous ODE\")\n",
    "\n",
    "f25_prob = ODEProblem(f25, f25_y0, f25_span)\n",
    "f25_sol = solve(f25_prob, reltol=1e-8, abstol=1e-8)\n",
    "plot!(plt, f25_sol, color=:darkgreen)\n",
    "\n",
    "display(plt)"
   ]
  },
  {
   "cell_type": "markdown",
   "id": "ffaab160-c13d-47f9-97da-9acae377e1ad",
   "metadata": {},
   "source": [
    "## Figure 2.6 - Forcing by discontinuous impulses\n",
    "\n",
    "$ y' - cos(t) = -10(y - sin(t)) + g(t), t \\in [0,15], y(0) = 0 $\n"
   ]
  },
  {
   "cell_type": "code",
   "execution_count": null,
   "id": "80f93dad-fac2-4562-bda9-4cf6718325df",
   "metadata": {},
   "outputs": [],
   "source": [
    "f26 = (y, p, t) -> -10(y - sin(t)) + gf26(t) + cos(t)\n",
    "gf26 = (t) -> 10 * (abs((t + 1) / 2 - round((t + 1) / 2)) < 0.05)\n",
    "f26_y0 = 0.0\n",
    "f26_span = (0.0, 15.0)\n",
    "\n",
    "plt = plot(title=\"Forcing by discontinuous impulses\", ylims=(-2.0, 2.0))\n",
    "\n",
    "f26_prob = ODEProblem(f26, f26_y0, f26_span)\n",
    "f26_sol = solve(f26_prob, reltol=1e-8, abstol=1e-8)\n",
    "plot!(plt, f26_sol, color=:darkgreen)\n",
    "\n",
    "display(plt)"
   ]
  },
  {
   "cell_type": "markdown",
   "id": "105cf402-0e69-41a6-a9cc-11a09323e119",
   "metadata": {},
   "source": [
    "## Figure 2.7 - Caffeine intake rate\n",
    "\n",
    "3 half hour cups, with intake at a rate of 16 micrograms/milliliter/hour\n"
   ]
  },
  {
   "cell_type": "code",
   "execution_count": null,
   "id": "80a85faf-0528-432d-87c3-1b6f2e24feab",
   "metadata": {},
   "outputs": [],
   "source": [
    "# f27_intake = (t) -> f27_coffee(t, 0.) + f27_coffee(t, 3.) + f27_coffee(t, 8.)\n",
    "# f27_intake = (t) -> sum([f27_coffee(t, t0) for t0 in [0.0, 3.0, 8.0]])\n",
    "f27_intake = (t) -> sum(map((x) -> f27_coffee(t, x), [0.0, 3.0, 8.0]))\n",
    "# f27_coffee = (t, t0) -> 16 * (t > t0) * (t < (t0 + 0.5))\n",
    "f27_coffee = (t, t0) -> 16. * (t0 < t < (t0 + 0.5))\n",
    "f27_y0 = 0.0\n",
    "f27_span = (-2.25, 24.0)\n",
    "\n",
    "plt = plot(title=\"Caffeine intake\")\n",
    "\n",
    "# f27_prob = ODEProblem(f27_intake, f27_y0, f27_span)\n",
    "# f27_sol = solve(f27_prob, reltol=1e-8, abstol=1e-8)\n",
    "plot!(plt, f27_intake, color=:black, xlim=f27_span)\n",
    "\n",
    "display(plt)"
   ]
  },
  {
   "cell_type": "markdown",
   "id": "06568b6e-ef9f-4e0a-9401-8fdd254284b0",
   "metadata": {},
   "source": [
    "**Note:** Had to play with the limits to get the spikes to come out right - presumably an artifact of the way _plots.jl_ decides how to choose the $x$ points to plot."
   ]
  },
  {
   "cell_type": "markdown",
   "id": "f16b2b5a-ec42-4691-b3ac-7776d1b26ec5",
   "metadata": {},
   "source": [
    "## Figure 2.8 - Caffeine concentration in the blood\n",
    "\n",
    "Need to combine the above with appropriate exponantial growth and decay.\n"
   ]
  }
 ],
 "metadata": {
  "language_info": {
   "name": "python",
   "pygments_lexer": "ipython3"
  }
 },
 "nbformat": 4,
 "nbformat_minor": 5
}
