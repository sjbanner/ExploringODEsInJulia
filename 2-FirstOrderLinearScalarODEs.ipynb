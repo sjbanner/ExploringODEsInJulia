{
 "cells": [
  {
   "cell_type": "markdown",
   "id": "c3344410-d98f-4fd9-81a4-a320561325d7",
   "metadata": {},
   "source": [
    "# Chapter 2 - First Order, Linear, Scalar ODEs\n",
    "\n",
    "Link to \"m-file\": http://people.maths.ox.ac.uk/trefethen/ExplODE/ode02.m\n",
    "\n",
    "## Environment setup\n",
    "Setup the local stuff - first you may need to change the Kernel, but not always.\n",
    "\n",
    "Then setup the packages as needed. The stuff that's commented out should already be there from the build. Don't actually load that unless you need to.\n"
   ]
  },
  {
   "cell_type": "code",
   "execution_count": null,
   "id": "11f4cbf4-903e-43bc-a097-b89a1ec12d47",
   "metadata": {},
   "outputs": [],
   "source": [
    "using Pkg\n",
    "Pkg.status()\n",
    "\n",
    "# Pkg.add(\"DifferentialEquations\")\n",
    "# Pkg.add(\"Plots\")\n",
    "# Pkg.add(\"DiffEqBase\")\n",
    "# Pkg.add(\"DiffEqOperators\")\n",
    "# Pkg.add(\"ModelingToolkit\")\n",
    "# Pkg.status()\n",
    "\n",
    "using DifferentialEquations\n",
    "using Plots\n",
    "using DiffEqBase, DiffEqOperators, LinearAlgebra\n",
    "using ModelingToolkit\n"
   ]
  },
  {
   "cell_type": "markdown",
   "id": "44021c62-f313-4bcb-92cb-17a92ce94990",
   "metadata": {},
   "source": [
    "# Examples from the text.\n",
    "\n",
    "Before getting into the excercises, I am going to reproduce the graphs in the text as an excercise to help ensure that I know what I am doing with the Julia DifferentialEquations package. Once my confidence in this increases (probably in two or three chapters), I am likely to stop doing this, but for now it's good practice.\n"
   ]
  },
  {
   "cell_type": "markdown",
   "id": "a385fb62-6ba0-4f37-94b8-eb5e33185752",
   "metadata": {},
   "source": [
    "## Figure 2.1 Exponantial growth or decay depending on $a$\n",
    "\n",
    "Note the use of _f21_ to indicate the parameters, variables, etc associated with this excercise. I will use this convention to avoid issues between figures and excercises - excercises using _e_ rather than _f_."
   ]
  },
  {
   "cell_type": "code",
   "execution_count": null,
   "id": "0184267a-c8f4-4f4a-869a-06247b7b788f",
   "metadata": {},
   "outputs": [],
   "source": [
    "f21(y, a, t) = y * a\n",
    "f21_y0 = 1\n",
    "f21_span = (0, 1)\n",
    "\n",
    "plt = plot(title=\"Exponantial growth or decay for a = ?\", ylims=(0.0, 5.0))\n",
    "\n",
    "for a in -10:2:10\n",
    "    f21_prob = ODEProblem(f21, f21_y0, f21_span, a)\n",
    "    f21_sol = solve(f21_prob, reltol=1e-8, abstol=1e-8)\n",
    "    plot!(plt, f21_sol, label=string(a))\n",
    "end\n",
    "\n",
    "display(plt)"
   ]
  },
  {
   "cell_type": "markdown",
   "id": "44539a2d-8eba-4480-9fe3-d46c4ff6a076",
   "metadata": {},
   "source": [
    "## Figure 2.2 - Smooth Homogeneous ODE\n",
    "\n",
    "$ y' = sin(t^2)y, t \\in [0,8], y(0) = 1 $\n"
   ]
  },
  {
   "cell_type": "code",
   "execution_count": null,
   "id": "0653e6dd-2324-490a-ac2f-10a6976e56c3",
   "metadata": {},
   "outputs": [],
   "source": [
    "function f22(y, p, t)\n",
    "    return y * sin(t^2)\n",
    "end\n",
    "\n",
    "f22_y0 = 1.0\n",
    "f22_span = (0.0, 8.0)\n",
    "\n",
    "plt = plot(title=\"Smooth homogeneous ODE\", ylims=(0.5, 3.0))\n",
    "\n",
    "f22_prob = ODEProblem(f22, f22_y0, f22_span)\n",
    "f22_sol = solve(f22_prob, reltol=1e-8, abstol=1e-8)\n",
    "plot!(plt, f22_sol, color=:darkgreen)\n",
    "\n",
    "display(plt)"
   ]
  },
  {
   "cell_type": "markdown",
   "id": "622ddea9-f3dd-40fa-aef2-da4dd4164de5",
   "metadata": {},
   "source": [
    "**Note:** Have to use the _function_ keyword, or an anonymous function. Using the _inline_ format from _Figure 2.1_ gets into parameter type problems."
   ]
  },
  {
   "cell_type": "markdown",
   "id": "6d092595-8cbf-413a-a11f-9b573d92337a",
   "metadata": {},
   "source": [
    "## Figure 2.3 - Nonsmooth homogeneous ODE\n",
    "\n",
    "$ y' = sign(sin(t^2))y, t \\in [0,8], y(0) = 1 $\n"
   ]
  },
  {
   "cell_type": "code",
   "execution_count": null,
   "id": "aa722c5e-8dd4-4551-888d-9f030a4ab78d",
   "metadata": {},
   "outputs": [],
   "source": [
    "f23 = (y, p, t) -> y * sign(sin(t^2))\n",
    "\n",
    "f23_y0 = 1.0\n",
    "f23_span = (0.0, 8.0)\n",
    "\n",
    "plt = plot(title=\"Non-smooth homogeneous ODE\", ylims=(0.5, 8.0))\n",
    "\n",
    "f23_prob = ODEProblem(f23, f23_y0, f23_span)\n",
    "f23_sol = solve(f23_prob, reltol=1e-8, abstol=1e-8)\n",
    "plot!(plt, f23_sol, color=:darkgreen)\n",
    "\n",
    "display(plt)"
   ]
  },
  {
   "cell_type": "markdown",
   "id": "b26c07aa-6688-43e8-a4e5-c56db50902e3",
   "metadata": {},
   "source": [
    "## Figure 2.4 - Smooth inhomogeneous ODE\n",
    "\n",
    "$ y' + y = sin(t^2), t \\in [0,8], y(0) = 0 $\n"
   ]
  },
  {
   "cell_type": "code",
   "execution_count": null,
   "id": "5aaf191a-de05-4dd2-adbb-8e65a6a9dd7c",
   "metadata": {},
   "outputs": [],
   "source": [
    "f24 = (y, p, t) ->  sin(t^2) - y\n",
    "\n",
    "f24_y0 = 0.0\n",
    "f24_span = (0.0, 8.0)\n",
    "\n",
    "plt = plot(title=\"Smooth inhomogeneous ODE\")\n",
    "\n",
    "f24_prob = ODEProblem(f24, f24_y0, f24_span)\n",
    "f24_sol = solve(f24_prob, reltol=1e-8, abstol=1e-8)\n",
    "plot!(plt, f24_sol, color=:darkgreen)\n",
    "\n",
    "display(plt)"
   ]
  },
  {
   "cell_type": "markdown",
   "id": "b4624bd2-38c6-477d-8880-fd77a137d66c",
   "metadata": {},
   "source": [
    "## Figure 2.5 - Non-smooth inhomogeneous ODE\n",
    "\n",
    "$ y' + y = sign(sin(t^2)), t \\in [0,8], y(0) = 0 $\n"
   ]
  },
  {
   "cell_type": "code",
   "execution_count": null,
   "id": "11d0bf16-b0ff-469c-87c9-fa62886497a6",
   "metadata": {},
   "outputs": [],
   "source": [
    "f25 = (y, p, t) -> sign(sin(t^2)) - y\n",
    "\n",
    "f25_y0 = 0.0\n",
    "f25_span = (0.0, 8.0)\n",
    "\n",
    "plt = plot(title=\"Non-smooth inhomogeneous ODE\")\n",
    "\n",
    "f25_prob = ODEProblem(f25, f25_y0, f25_span)\n",
    "f25_sol = solve(f25_prob, reltol=1e-8, abstol=1e-8)\n",
    "plot!(plt, f25_sol, color=:darkgreen)\n",
    "\n",
    "display(plt)"
   ]
  },
  {
   "cell_type": "markdown",
   "id": "ffaab160-c13d-47f9-97da-9acae377e1ad",
   "metadata": {},
   "source": [
    "## Figure 2.6 - Forcing by discontinuous impulses\n",
    "\n",
    "$ y' - cos(t) = -10(y - sin(t)) + g(t), t \\in [0,15], y(0) = 0 $\n"
   ]
  },
  {
   "cell_type": "code",
   "execution_count": null,
   "id": "80f93dad-fac2-4562-bda9-4cf6718325df",
   "metadata": {},
   "outputs": [],
   "source": [
    "f26 = (y, p, t) -> -10(y - sin(t)) + gf26(t) + cos(t)\n",
    "gf26 = (t) -> 10 * (abs((t + 1) / 2 - round((t + 1) / 2)) < 0.05)\n",
    "f26_y0 = 0.0\n",
    "f26_span = (0.0, 15.0)\n",
    "\n",
    "plt = plot(title=\"Forcing by discontinuous impulses\", ylims=(-2.0, 2.0))\n",
    "\n",
    "f26_prob = ODEProblem(f26, f26_y0, f26_span)\n",
    "f26_sol = solve(f26_prob, reltol=1e-8, abstol=1e-8)\n",
    "plot!(plt, f26_sol, color=:darkgreen)\n",
    "\n",
    "display(plt)"
   ]
  },
  {
   "cell_type": "markdown",
   "id": "105cf402-0e69-41a6-a9cc-11a09323e119",
   "metadata": {},
   "source": [
    "## Figure 2.7 - Caffeine intake rate\n",
    "\n",
    "3 half hour cups, with intake at a rate of 16 micrograms/milliliter/hour\n"
   ]
  },
  {
   "cell_type": "code",
   "execution_count": null,
   "id": "80a85faf-0528-432d-87c3-1b6f2e24feab",
   "metadata": {},
   "outputs": [],
   "source": [
    "# f27_intake = (t) -> f27_coffee(t, 0.) + f27_coffee(t, 3.) + f27_coffee(t, 8.)\n",
    "# f27_intake = (t) -> sum([f27_coffee(t, t0) for t0 in [0.0, 3.0, 8.0]])\n",
    "f27_intake = (t) -> sum(map((x) -> f27_coffee(t, x), [0.0, 3.0, 8.0]))\n",
    "# f27_coffee = (t, t0) -> 16 * (t > t0) * (t < (t0 + 0.5))\n",
    "f27_coffee = (t, t0) -> 16. * (t0 < t < (t0 + 0.5))\n",
    "f27_y0 = 0.0\n",
    "f27_span = (-2.25, 24.0)\n",
    "\n",
    "plt = plot(title=\"Caffeine intake\")\n",
    "\n",
    "# f27_prob = ODEProblem(f27_intake, f27_y0, f27_span)\n",
    "# f27_sol = solve(f27_prob, reltol=1e-8, abstol=1e-8)\n",
    "plot!(plt, f27_intake, color=:black, xlim=f27_span)\n",
    "\n",
    "display(plt)"
   ]
  },
  {
   "cell_type": "markdown",
   "id": "06568b6e-ef9f-4e0a-9401-8fdd254284b0",
   "metadata": {},
   "source": [
    "**Note:** Had to play with the limits to get the spikes to come out right - presumably an artifact of the way _plots.jl_ decides how to choose the $x$ points to plot."
   ]
  },
  {
   "cell_type": "markdown",
   "id": "f16b2b5a-ec42-4691-b3ac-7776d1b26ec5",
   "metadata": {},
   "source": [
    "## Figure 2.8 - Caffeine concentration in the blood\n",
    "\n",
    "Need to combine the above with appropriate exponantial growth and decay. So from the text the base Differential Equation is:\n",
    "\n",
    "$$c' = -kc$$\n",
    "\n",
    "where $k$ is the _positive_ rate constant. The decay rate is expressed as a half life:\n",
    "\n",
    "$$ e^{-kt_{1/2}} = {1 \\over 2},\\quad t_{1/2} = {log(2) \\over k} $$\n",
    "\n",
    "Experimental evidence gives $ t_{1/2} = 6hr $ which implies that $ k = log(2)/{t_{1/2}} $\n",
    "\n",
    "Plugging this into the _DE_ above, we get:\n",
    "\n",
    "$$ c' = -(log(2)/6)c = -c\\, log(2)/6$$\n"
   ]
  },
  {
   "cell_type": "code",
   "execution_count": null,
   "id": "2c0e30b4-2f67-491f-b012-d025a1a67e23",
   "metadata": {},
   "outputs": [],
   "source": [
    "f28 = (y, p, t) -> -y * log(2)/6 + f27_intake(t)\n",
    "\n",
    "plt = plot(title=\"Caffeine concentration in the blood\")\n",
    "plot!(plt, f27_intake, color=:black, xlim=f27_span, label=\"Intake\")\n",
    "\n",
    "f28_prob = ODEProblem(f28, f27_y0, f27_span)\n",
    "f28_sol = solve(f28_prob, reltol=1e-8, abstol=1e-8)\n",
    "plot!(plt, f28_sol, color=:darkgreen, xlim=f27_span, label=\"Concentration\")\n",
    "\n",
    "display(plt)"
   ]
  },
  {
   "cell_type": "markdown",
   "id": "530a1e12-db35-4112-be44-348492f7372d",
   "metadata": {},
   "source": [
    "# Excercises\n",
    "\n",
    "And having gotten more comfortable reproducing the figures above, let's move onto the excercises."
   ]
  },
  {
   "cell_type": "markdown",
   "id": "539f29bc-a185-403a-b8ac-0ac9116c5120",
   "metadata": {},
   "source": [
    "## Exercise 2.1. Separation of variables.\n",
    "\n",
    "Use separation of variables to find general solutions to:\n",
    "\n",
    "1. $y' = e^{y+t}$,\n",
    "2. $y' = ty + y + t + 1$,\n",
    "3. $y' = (t^2 + 2)/y$.\n",
    "\n",
    "Confirm your answers with WolframAlpha or some other computational tool. Which of these\n",
    "equations are linear?"
   ]
  },
  {
   "cell_type": "markdown",
   "id": "4a1b9625-8fa5-4f1a-9659-546aa8c537b1",
   "metadata": {},
   "source": [
    "### Answer:\n",
    "1. $y' = e^{y + t} = e^y e^t$\n",
    "\n",
    "   ${y' \\over e^y} = e^t$ - non-Linear\n",
    "   \n",
    "   W.A. Solution: $y' e^{-y} = e^t$ - non-Linear.\n",
    "2. $y' = ty + y + t + 1 = y(t + 1) + t + 1$\n",
    "\n",
    "   $y' - y(t + 1) = t + 1$ - Linear\n",
    "   \n",
    "   W.A. Solution: ${y' \\over 1 + y} = 1 + t$ - Linear\n",
    "   \n",
    "   Correction:\n",
    "   \n",
    "   Let: $x = t + 1$, then:\n",
    "   \n",
    "   $y' = x(y + 1)$\n",
    "   \n",
    "   ${y' \\over (y + 1)} = x$\n",
    "   \n",
    "   ${y' \\over (y + 1)} = t + 1$\n",
    "3. $y' = (t^2 + 2)/y$\n",
    "\n",
    "   $y'y = t^2 + 2$ - Linear?\n",
    "   \n",
    "   W.A. Solution: $y'y = 2 + t^2$ - non-Linear\n",
    "   "
   ]
  },
  {
   "cell_type": "markdown",
   "id": "7f0a764a-9849-4af5-8571-d819bbbfcc78",
   "metadata": {},
   "source": [
    "## Exercise 2.2. Method of undetermined coefficients.\n",
    "\n",
    "Use the method of undetermined\n",
    "coefficients to find general solutions to:\n",
    "\n",
    "1. $y' = y + e^t$ (try $y = ate^t$),\n",
    "2. $y' = y + t\\, sin(t)$ (try $y = a\\, sin(t) + bt\\, sin(t) + c\\, cos(t) + dt\\, cos(t))$,\n",
    "3. $y' = 2y + e^t + 1$,\n",
    "4. $y' = 1 − 2ty$ (Dawson's integral).\n",
    "\n",
    "Confirm your answers with WolframAlpha or some\n",
    "other computational tool."
   ]
  },
  {
   "cell_type": "markdown",
   "id": "499ff8be-93a5-45ad-adec-879242b7a6b4",
   "metadata": {},
   "source": [
    "### Answers:\n",
    "\n",
    "1. $y' = y + e^t$\n",
    "\n",
    "   Let $y = Ate^t$, then:\n",
    "   \n",
    "   $y' = Ate^t + e^t = (At + 1)e^t$\n",
    "   \n",
    "   $y = y' - e^t = (Ate^t + e^t) - e^t = Ate^t = Ate^t$\n",
    "   \n",
    "   W.A. Solution: $y = c_1\\, e^t + e^t\\, t = c_1\\, e^t + te^t = (c_1 + t)e^t$\n",
    "   \n",
    "   Further exploration: ${d \\over dt}(Ate^t) = Ae^t(t + 1) = Ate^t + Ae^t$\n",
    "   \n",
    "   $y = y' - e^t = Ate^t + Ae^t - e^t = Ate^t + (A - 1)e^t$"
   ]
  },
  {
   "cell_type": "markdown",
   "id": "771d81a8-d30c-435d-9024-7e118b331673",
   "metadata": {},
   "source": [
    "## Exercise 2.3. Interchanging variables to make a problem linear.\n",
    "\n",
    "1. Although the\n",
    "differential equation $y' = y/(t + y)$ is nonlinear, show that it becomes linear if it\n",
    "is rewritten as an equation for ${dt} \\over {dy}$ rather than ${dy} \\over {dt}$. Solve this linear equation\n",
    "analytically by determining an appropriate integrating factor, and thereby also solve\n",
    "the original nonlinear equation.\n",
    "2. If $y(0) = 1$, what is $y(1)$? Find the solution\n",
    "numerically or analytically. (An analytical solution involves a special function known\n",
    "as the Lambert W-function.)"
   ]
  },
  {
   "cell_type": "markdown",
   "id": "4f353eae-e104-492a-b2f7-1c27a4c9d771",
   "metadata": {},
   "source": [
    "## Exercise 2.4. Choosing a coefficient.\n",
    "\n",
    "Suppose $y_0 = 1$ in (2.5). Give a function $a(t)$\n",
    "such that the solution $y(t)$ has $y(1) = 2$."
   ]
  },
  {
   "cell_type": "markdown",
   "id": "c07e0a57-b06f-4aba-9a5d-cc4adc769780",
   "metadata": {},
   "source": [
    "## Exercise 2.5. No changes of sign.\n",
    "\n",
    "Consider an IVP (2.5) for which $y_0$ and $a(t)$ are\n",
    "real (i.e., not complex). Show that the solution $y(t)$ is positive for all $t$, negative for\n",
    "all $t$, or zero for all $t$. What's the strongest analogous result you can state in the case\n",
    "where $a(t)$ is permitted to be complex?"
   ]
  },
  {
   "cell_type": "markdown",
   "id": "fff6e80d-3afe-4ddb-ad4c-391ab854acda",
   "metadata": {},
   "source": [
    "## Exercise 2.6. Local extrema of an oscillation.\n",
    "\n",
    "Let $t_{50}$ denote the point where the\n",
    "solution of $y' = −cos(10/(1 − t)),\\ y(0) = 1$, achieves its 50th local maximum (in\n",
    "Chebfun, $[a,b] = max(y,\\text{'local'})$).\n",
    "1. Determine $t_{50}$ and $y(t_{50})$ numerically, and\n",
    "plot $y(t)$ for $0 \\le t \\le t_{50}$.\n",
    "2. Confirm the exact value of $t_{50}$ analytically.\n"
   ]
  },
  {
   "cell_type": "markdown",
   "id": "e43502a5-08df-4e85-847a-d55990262773",
   "metadata": {},
   "source": [
    "### Excercise 2.6.1\n"
   ]
  },
  {
   "cell_type": "code",
   "execution_count": null,
   "id": "04d97f28-7fa9-4295-9a50-0eee351d7f91",
   "metadata": {},
   "outputs": [],
   "source": [
    "include(\"localminmax.jl\")"
   ]
  },
  {
   "cell_type": "markdown",
   "id": "16742a7c-eeed-46fa-b357-7bdcbba9baec",
   "metadata": {},
   "source": [
    "Note: I did a manual search to find the span that would include a little over 50 maxima. And remember $t = 1$ gives a divide by $0$ error."
   ]
  },
  {
   "cell_type": "code",
   "execution_count": null,
   "id": "430b60a6-8ce1-45dc-9565-136e8736be83",
   "metadata": {},
   "outputs": [],
   "source": [
    "function e26(y, p, t)\n",
    "    return -cos(10 / (1 - t))\n",
    "end\n",
    "\n",
    "e26_y0 = 1\n",
    "e26_span = (0, 0.99)\n",
    "\n",
    "plt = plot(title=\"y' = -cos(10/(1-t))\")\n",
    "\n",
    "e26_prob = ODEProblem(e26, e26_y0, e26_span)\n",
    "e26_sol = solve(e26_prob, reltol=1e-8, abstol=1e-8)\n",
    "plot!(plt, e26_sol, color=:darkgreen)\n",
    "\n",
    "display(plt)\n",
    "\n",
    "maxs = localmaxs(e26_sol.u)\n",
    "println(\"Number of local maxima found: \", string(length(maxs)))\n",
    "idx = 50\n",
    "println(\"Max \", idx, \": \", maxs[idx][2], \" at t = \", e26_sol.t[maxs[idx][1]])\n"
   ]
  },
  {
   "cell_type": "markdown",
   "id": "01528b50-b541-4357-8394-7b9bc2961c80",
   "metadata": {},
   "source": [
    "## Exercise 2.7. Adjusting Batman's ears.\n",
    "\n",
    "1. Use $max(y\\{6,8\\})$ to calculate the maximum\n",
    "value of $y(t)$ in the interval $[6, 8]$ for the problem of Figure 2.6.\n",
    "2. What happens\n",
    "to the plot, and to this maximum value, if the impulse is made $3$ times as wide with\n",
    "$1/3$ the amplitude?\n",
    "3. What if it is $1/3$ as wide with $3$ times the amplitude?\n"
   ]
  },
  {
   "cell_type": "markdown",
   "id": "95258985-25a0-472c-b168-566d77915868",
   "metadata": {},
   "source": [
    "### Excercise 2.7.1\n",
    "\n",
    "First we will define a parameterized version of the differential equation, that we can reuse."
   ]
  },
  {
   "cell_type": "code",
   "execution_count": null,
   "id": "17a4b84e-701b-4f15-8c1f-68078bb25bfe",
   "metadata": {},
   "outputs": [],
   "source": [
    "function e27(y, p, t)\n",
    "    return -10(y - sin(t)) + ge27(t, p[1]) + cos(t)\n",
    "end\n",
    "\n",
    "ge27 = (t, scale) -> (10 / scale) * (abs((t + 1) / (2 * scale) - round((t + 1) / (2 * scale))) < 0.05)"
   ]
  },
  {
   "cell_type": "code",
   "execution_count": null,
   "id": "929f57cb-6c3e-42fa-b022-a9870ac6393b",
   "metadata": {},
   "outputs": [],
   "source": [
    "e271_scale = 1\n",
    "e271_y0 = 0.0\n",
    "e271_span = (6.0, 8.0)\n",
    "\n",
    "plt = plot(title=\"Forcing by discontinuous impulses\", ylims=(-2.0, 2.0))\n",
    "\n",
    "e271_prob = ODEProblem(e27, e271_y0, e271_span, [e271_scale])\n",
    "e271_sol = solve(e271_prob, reltol=1e-8, abstol=1e-8)\n",
    "plot!(plt, e271_sol, color=:darkgreen)\n",
    "\n",
    "display(plt)\n",
    "\n",
    "println(\"Max in the range \", e271_span, \" is \", max(e271_sol.u...))\n"
   ]
  },
  {
   "cell_type": "markdown",
   "id": "5030173d-6a72-4a43-ba7e-d8f2970cb454",
   "metadata": {},
   "source": [
    "### Excercise 2.7.2\n",
    "\n",
    "3 times the amplitude, 1/3rd of the width."
   ]
  },
  {
   "cell_type": "code",
   "execution_count": null,
   "id": "9a8f6d83-b111-4726-9512-6a2d82acbcb6",
   "metadata": {},
   "outputs": [],
   "source": [
    "e272_scale = 3.0\n",
    "e272_y0 = 0.0\n",
    "e272_span = (1.0, 15.0)\n",
    "\n",
    "plt = plot(title=\"Forcing by discontinuous impulses\")\n",
    "\n",
    "e272_prob = ODEProblem(e27, e272_y0, e272_span, [e272_scale])\n",
    "e272_sol = solve(e272_prob, reltol=1e-8, abstol=1e-8)\n",
    "plot!(plt, e272_sol, color=:darkgreen)\n",
    "\n",
    "display(plt)\n",
    "\n",
    "println(\"Max in the range \", e272_span, \" is \", max(e272_sol.u...))\n"
   ]
  },
  {
   "cell_type": "markdown",
   "id": "51738bca-df0c-4b6f-a8ee-e737d7bb3b6c",
   "metadata": {},
   "source": [
    "### 2.7.3\n",
    "\n",
    "1/3rd the amplitude, 3 times the width."
   ]
  },
  {
   "cell_type": "code",
   "execution_count": null,
   "id": "c4548dce-3ab7-4e8f-8975-4f9bbad853d0",
   "metadata": {},
   "outputs": [],
   "source": [
    "e273_scale = 1/3.0\n",
    "e273_y0 = 0.0\n",
    "e273_span = (1.0, 15.0)\n",
    "\n",
    "plt = plot(title=\"Forcing by discontinuous impulses\")\n",
    "\n",
    "e273_prob = ODEProblem(e27, e273_y0, e273_span, [e273_scale])\n",
    "e273_sol = solve(e273_prob, reltol=1e-8, abstol=1e-8)\n",
    "plot!(plt, e273_sol, color=:darkgreen)\n",
    "\n",
    "display(plt)\n",
    "\n",
    "println(\"Max in the range \", e273_span, \" is \", max(e273_sol.u...))\n"
   ]
  },
  {
   "cell_type": "markdown",
   "id": "870885d5-e0be-41b5-9466-82d0c311d258",
   "metadata": {},
   "source": [
    "## Exercise 2.8. Temperature of a dead body.\n",
    "\n",
    "It was observed in 1894 that a human body\n",
    "after death cools at a rate that is \"nearly proportional to the difference between the\n",
    "body and the surroundings.\" (This heat transfer principle is known as Newton's law\n",
    "of cooling. The quote comes from de Saram, Webster, and Kathirgamatamby, \"Postmortem\n",
    "temperature and the time of death,\" Journal of Criminal Law, Criminology,\n",
    "and Police Science 64 (1955), pp. 562–577.) Let’s assume that the cooling rate is\n",
    "$-\\beta\\Theta(t)$, where $\\Theta(t)$ is the difference between body and surrounding temperature, and\n",
    "$\\beta$ is an empirical constant. De Saram et al. measured the temperatures of $41$ executed\n",
    "prisoners to test this model. In one case the body temperature was $97.8^{\\circ}F$ at 11AM and $96.2^{\\circ}F$ at 1 PM. The room temperature was held at $86.4^{\\circ}$.\n",
    "\n",
    "1. Use the\n",
    "temperature readings to find a numerical value for $\\beta$.\n",
    "2. By assuming that at the\n",
    "time of death the body temperature was $98.6^{\\circ}F$,\n",
    "determine an approximate time of death.\n"
   ]
  },
  {
   "cell_type": "markdown",
   "id": "8793511d-b635-4c7e-a65e-e492f7f542e9",
   "metadata": {},
   "source": [
    "## Exercise 2.9. Heaviside function.\n",
    "\n",
    "Many of the examples of this chapter involve\n",
    "ODEs forced by discontinuous right-hand sides. Another way to formulate such\n",
    "problems is with the step function or Heaviside function $H(t)$ , which takes\n",
    "the value $0$ for $t \\lt 0$ and $1$ for $t \\gt 0$; the value at $t = 0$ is $0.5$. Execute\n",
    "the instructions:\n",
    "\n",
    "```\n",
    "L = chebop(0,2),\n",
    "L.op = @(t,y) diff(y)+y,\n",
    "L.lbc = 1,\n",
    "t = chebfun('t',[0,2]),\n",
    "f = heaviside(t-1),\n",
    "y = L\\f\n",
    "```\n",
    "\n",
    "Write down the IVP that\n",
    "is being solved here, plot the solution $y$ just computed, and derive an exact formula\n",
    "for this function. How accurate is the computed value $y(2)$?"
   ]
  },
  {
   "cell_type": "markdown",
   "id": "19ff71d5-4f66-4668-830a-818e9eff0d75",
   "metadata": {},
   "source": [
    "## Exercise 2.10. An ODE from Newton (1671) and Taylor series approximations.\n",
    "\n",
    "One of the first IVPs ever considered was the equation $y' = 1 − 3t + y + t^2 + ty$ with\n",
    "initial condition $y(0) = 0$, presented by Isaac Newton in 1671. Newton solved this by\n",
    "using what we now call a Taylor series, obtaining the representation $y(t) = t − t^2 +\n",
    "t^3/3−t^4/6+t^5/30−t^6/45+· · · $. What is the maximum difference between this 6-term\n",
    "approximation and the true solution on the intervals\n",
    "\n",
    "1. $[0, 0.5]$,\n",
    "2. $[0, 1]$,\n",
    "3. $[0, 2]$, and\n",
    "4. $[0, 4]$?\n",
    "\n",
    "Give the numbers and also plot the absolute value of the error as a\n",
    "function of $t$ on a log-log scale. Comment on the plot.\n"
   ]
  },
  {
   "cell_type": "markdown",
   "id": "3cba9f2f-bb89-41e5-befe-61301e72a967",
   "metadata": {},
   "source": [
    "## Exercise 2.11. Equation with sensitive solutions.\n",
    "\n",
    "Consider the equation $y' + ty = f(t)$\n",
    "for $t \\in [−4, 4]$ with $y(−4) = 0$.\n",
    "\n",
    "1. What is $max_{t \\in [−4,4]} y(t)$ if $f(t) = sin(t)$? What\n",
    "does this change to if $f(t) = sin(0.85t)$?\n",
    "2. What term in the formulas of Theorem 2.3\n",
    "makes it possible for these numbers to vary so greatly?"
   ]
  },
  {
   "cell_type": "markdown",
   "id": "35e7bb4c-7359-4e16-944b-8990c589d3ef",
   "metadata": {},
   "source": [
    "## Exercise 2.12. Thiele’s equation for life insurance.\n",
    "\n",
    "Simple life insurance is purchased\n",
    "for a length of time $T$ and costs the insured party a fixed premium $P$ per year. If\n",
    "the insured dies during the term of the policy, the insurer must pay a benefit of $S$.\n",
    "Otherwise, the insured receives nothing. The insurer is required to keep money in\n",
    "reserve for this policy in order to be able to pay out all the claims likely to result\n",
    "from a pooled group of individuals. This is done via the Thiele differential equation,\n",
    "first derived in 1875 and published in 1910. Let $V(t)$ for $0 \\le t \\le T$ be the amount\n",
    "of reserve needed for a policy purchased at time $t = 0$. Thiele’s equation is \n",
    "$V' = P +\\delta V(t)−\\mu(t)(S − V(t))$, where $\\delta$ is the force of interest (the interest rate) and $\\mu (t)$\n",
    "is the force of mortality (the probability of a person dying per unit time). When the\n",
    "policy expires, no reserve is needed, so $V(T) = 0.12$\n",
    "\n",
    "1. Plot the solution $V(t)$ for $\\mu (t) = 0.007(t+5),\\ \\delta = 0.03,\\ P = 800,\\ S = 1e6,$ and $T = 25$.\n",
    "2. What is the maximal value of $V(t)$? Is it less than or equal to $S$? Interpret this inequality financially.\n",
    "3. Assuming $\\delta \\le 0$, prove that any solution of the ODE problem will satisfy this\n",
    "inequality."
   ]
  },
  {
   "cell_type": "markdown",
   "id": "5f6bff42-5e2d-41ce-91fe-cef473f677bb",
   "metadata": {},
   "source": [
    "## Exercise 2.13.\n",
    "\n",
    "Without the method of undetermined coefficients. Solve (2.17) using Theorem 2.3."
   ]
  }
 ],
 "metadata": {
  "language_info": {
   "name": "python",
   "pygments_lexer": "ipython3"
  }
 },
 "nbformat": 4,
 "nbformat_minor": 5
}
